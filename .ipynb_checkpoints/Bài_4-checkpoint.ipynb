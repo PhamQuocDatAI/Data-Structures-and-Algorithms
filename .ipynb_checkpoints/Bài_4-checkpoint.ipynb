{
 "cells": [
  {
   "cell_type": "code",
   "execution_count": 7,
   "metadata": {},
   "outputs": [],
   "source": [
    "\n",
    "def isSafe(x,y,board):\n",
    "# kiểm tra xem nước đi có nằm trong bảng hay không.    \n",
    "  if(x >= 0 and y >= 0 and x < n and y < n and board[x][y] == -1): \n",
    "    return True\n",
    "  return False\n",
    "\n",
    "\n",
    "def printSolution(board):\n",
    "#In ra các nước đi\n",
    "  for i in range(n): \n",
    "    for j in range(n): \n",
    "        print(board[i][j],end =' ') \n",
    "    print() \n",
    "    \n",
    "    \n",
    "def solveKT(): \n",
    "    board = [[-1 for i in range(n)]for i in range(n)]   #Tạo ra ma trận 8x8 giống bàn cờ vu\n",
    "    move_x = [2, 1, -1, -2, -2, -1, 1, 2] \n",
    "    move_y = [1, 2, 2, 1, -1, -2, -2, -1] \n",
    "    board[0][0] = 0\n",
    "    pos = 1\n",
    "    if(not solveKTUtil(board, 0, 0, move_x, move_y, pos)): \n",
    "        print(\"Solution does not exist\") \n",
    "    else: \n",
    "        printSolution(board) \n",
    "    \n",
    "    \n",
    "def solveKTUtil(board,curr_x,curr_y,move_x,move_y,pos): \n",
    "    if(pos == n**2): \n",
    "        return True\n",
    "    for i in range(8): \n",
    "        new_x = curr_x + move_x[i] \n",
    "        new_y = curr_y + move_y[i] \n",
    "    if(isSafe(new_x,new_y,board)): \n",
    "        board[new_x][new_y] = pos \n",
    "        if(solveKTUtil(board,new_x,new_y,move_x,move_y,pos+1)): \n",
    "            return True  \n",
    "        board[new_x][new_y] = -1\n",
    "    return False"
   ]
  },
  {
   "cell_type": "code",
   "execution_count": 8,
   "metadata": {},
   "outputs": [
    {
     "name": "stdout",
     "output_type": "stream",
     "text": [
      "Solution does not exist\n"
     ]
    }
   ],
   "source": [
    "if __name__ == \"__main__\": \n",
    "    n = 8 #8*8=64\n",
    "    solveKT()"
   ]
  }
 ],
 "metadata": {
  "kernelspec": {
   "display_name": "Python 3",
   "language": "python",
   "name": "python3"
  },
  "language_info": {
   "codemirror_mode": {
    "name": "ipython",
    "version": 3
   },
   "file_extension": ".py",
   "mimetype": "text/x-python",
   "name": "python",
   "nbconvert_exporter": "python",
   "pygments_lexer": "ipython3",
   "version": "3.8.5"
  }
 },
 "nbformat": 4,
 "nbformat_minor": 4
}
