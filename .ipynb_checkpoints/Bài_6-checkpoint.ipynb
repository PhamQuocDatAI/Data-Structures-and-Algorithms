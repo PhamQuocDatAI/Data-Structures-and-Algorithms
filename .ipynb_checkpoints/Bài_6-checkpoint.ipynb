{
 "cells": [
  {
   "cell_type": "code",
   "execution_count": 1,
   "metadata": {},
   "outputs": [
    {
     "name": "stdout",
     "output_type": "stream",
     "text": [
      "Created linked list is:\n",
      "1\n",
      "7\n",
      "8\n",
      "6\n",
      "4\n"
     ]
    }
   ],
   "source": [
    "# Danh sách liên kết đơn\n",
    "class Node:\n",
    "  \n",
    "\n",
    "    def __init__(self, data):\n",
    "        self.data = data  \n",
    "        self.next = None  \n",
    "        \n",
    "        \n",
    "class LinkedList:\n",
    "  \n",
    "\n",
    "    def __init__(self):\n",
    "        self.head = None\n",
    "  \n",
    "  \n",
    "    def push(self, new_data):\n",
    "  \n",
    "\n",
    "        new_node = Node(new_data)\n",
    "  \n",
    "        new_node.next = self.head\n",
    "  \n",
    "        self.head = new_node\n",
    "  \n",
    "\n",
    "    def insertAfter(self, prev_node, new_data):\n",
    "  \n",
    "        if prev_node is None:\n",
    "            print(\"The given previous node must inLinkedList.\")\n",
    "            return\n",
    "  \n",
    "\n",
    "        new_node = Node(new_data)\n",
    "        new_node.next = prev_node.next\n",
    "        prev_node.next = new_node\n",
    "  \n",
    "    def append(self, new_data):\n",
    "\n",
    "        new_node = Node(new_data)\n",
    "        if self.head is None:\n",
    "            self.head = new_node\n",
    "            return\n",
    "  \n",
    "        last = self.head\n",
    "        while (last.next):\n",
    "            last = last.next\n",
    "  \n",
    "        last.next =  new_node\n",
    "  \n",
    "    def printList(self):\n",
    "        temp = self.head\n",
    "        while (temp):\n",
    "            print(temp.data)\n",
    "            temp = temp.next\n",
    "\n",
    "\n",
    "if __name__=='__main__':\n",
    "    llist = LinkedList()\n",
    "    llist.append(6)\n",
    "    llist.push(7);\n",
    "    llist.push(1);\n",
    "    llist.append(4)\n",
    "    llist.insertAfter(llist.head.next, 8)\n",
    "    print('Created linked list is:')\n",
    "    llist.printList()"
   ]
  }
 ],
 "metadata": {
  "kernelspec": {
   "display_name": "Python 3",
   "language": "python",
   "name": "python3"
  },
  "language_info": {
   "codemirror_mode": {
    "name": "ipython",
    "version": 3
   },
   "file_extension": ".py",
   "mimetype": "text/x-python",
   "name": "python",
   "nbconvert_exporter": "python",
   "pygments_lexer": "ipython3",
   "version": "3.8.5"
  }
 },
 "nbformat": 4,
 "nbformat_minor": 4
}
