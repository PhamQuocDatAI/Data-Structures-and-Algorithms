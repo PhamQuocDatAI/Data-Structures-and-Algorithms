{
 "cells": [
  {
   "cell_type": "code",
   "execution_count": 1,
   "metadata": {},
   "outputs": [
    {
     "name": "stdout",
     "output_type": "stream",
     "text": [
      "Mảng: [-48, 42, 19, -33, 9, 24, 46, -13, 0, 24]\n",
      "--------------------------------------------------\n",
      "Sorted array\n",
      "-48\n",
      "-33\n",
      "-13\n",
      "0\n",
      "9\n",
      "19\n",
      "24\n",
      "24\n",
      "42\n",
      "46\n"
     ]
    }
   ],
   "source": [
    "# Select Sort\n",
    "import random \n",
    "\n",
    "\n",
    "A = []\n",
    "for x in range(10):\n",
    "    a = random.randint(-50, 50)\n",
    "    A.append(a)\n",
    "    \n",
    "print('Mảng:',A) \n",
    "print('-'*50)\n",
    "for i in range(len(A)):\n",
    "    min_idx = i\n",
    "    for j in range(i+1, len(A)):\n",
    "        if A[min_idx] > A[j]:\n",
    "            min_idx = j      \n",
    "    A[i], A[min_idx] = A[min_idx], A[i]\n",
    "      \n",
    "print (\"Sorted array\")\n",
    "for i in range(len(A)):\n",
    "    print(\"%d\" %A[i])"
   ]
  }
 ],
 "metadata": {
  "kernelspec": {
   "display_name": "Python 3",
   "language": "python",
   "name": "python3"
  },
  "language_info": {
   "codemirror_mode": {
    "name": "ipython",
    "version": 3
   },
   "file_extension": ".py",
   "mimetype": "text/x-python",
   "name": "python",
   "nbconvert_exporter": "python",
   "pygments_lexer": "ipython3",
   "version": "3.8.5"
  }
 },
 "nbformat": 4,
 "nbformat_minor": 4
}
