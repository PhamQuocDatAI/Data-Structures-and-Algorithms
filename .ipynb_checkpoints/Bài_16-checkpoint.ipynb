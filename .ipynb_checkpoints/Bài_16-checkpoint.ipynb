{
 "cells": [
  {
   "cell_type": "code",
   "execution_count": 1,
   "metadata": {},
   "outputs": [],
   "source": [
    "import random"
   ]
  },
  {
   "cell_type": "code",
   "execution_count": 2,
   "metadata": {},
   "outputs": [
    {
     "name": "stdout",
     "output_type": "stream",
     "text": [
      "Array C: [-11, -34, -28, -35, -38, -41, 23, 7, 24, 37]\n",
      "--------------------------------------------------\n",
      "Sorted array is:\n",
      "-41\n",
      "-38\n",
      "-35\n",
      "-34\n",
      "-28\n",
      "-11\n",
      "7\n",
      "23\n",
      "24\n",
      "37\n"
     ]
    }
   ],
   "source": [
    "# Bubble Sort\n",
    "# Insertion Sort\n",
    "def bubbleSort(arr):\n",
    "    n = len(arr)\n",
    "    for i in range(n-1):\n",
    "        for j in range(0, n-i-1):\n",
    "            if arr[j] > arr[j+1] :\n",
    "                arr[j], arr[j+1] = arr[j+1], arr[j]\n",
    "                \n",
    "C = []\n",
    "for x in range(10):\n",
    "    c = random.randint(-50, 50)\n",
    "    C.append(c)\n",
    "\n",
    "print('Array C:', C)\n",
    "print('-'*50)\n",
    "\n",
    "bubbleSort(C)  \n",
    "print (\"Sorted array is:\")\n",
    "for i in range(len(C)):\n",
    "    print (\"%d\" %C[i]),"
   ]
  }
 ],
 "metadata": {
  "kernelspec": {
   "display_name": "Python 3",
   "language": "python",
   "name": "python3"
  },
  "language_info": {
   "codemirror_mode": {
    "name": "ipython",
    "version": 3
   },
   "file_extension": ".py",
   "mimetype": "text/x-python",
   "name": "python",
   "nbconvert_exporter": "python",
   "pygments_lexer": "ipython3",
   "version": "3.8.5"
  }
 },
 "nbformat": 4,
 "nbformat_minor": 4
}
