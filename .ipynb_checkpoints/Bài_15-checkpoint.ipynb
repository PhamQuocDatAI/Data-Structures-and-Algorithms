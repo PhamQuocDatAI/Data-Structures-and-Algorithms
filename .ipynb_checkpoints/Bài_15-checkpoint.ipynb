{
 "cells": [
  {
   "cell_type": "code",
   "execution_count": 2,
   "metadata": {},
   "outputs": [],
   "source": [
    "import random"
   ]
  },
  {
   "cell_type": "code",
   "execution_count": 3,
   "metadata": {},
   "outputs": [
    {
     "name": "stdout",
     "output_type": "stream",
     "text": [
      "Array B: [4, -6, 49, 17, 18, 29, -38, -36, -27, 30]\n",
      "--------------------------------------------------\n",
      "Sorted array:\n",
      "-38\n",
      "-36\n",
      "-27\n",
      "-6\n",
      "4\n",
      "17\n",
      "18\n",
      "29\n",
      "30\n",
      "49\n"
     ]
    }
   ],
   "source": [
    "# Insertion Sort\n",
    "def insertionSort(arr):\n",
    "  \n",
    "    for i in range(1, len(arr)):\n",
    "        key = arr[i]\n",
    "        j = i-1\n",
    "        while j >=0 and key < arr[j] :\n",
    "                arr[j+1] = arr[j]\n",
    "                j -= 1\n",
    "        arr[j+1] = key\n",
    "        \n",
    "        \n",
    "B = []\n",
    "for x in range(10):\n",
    "    b = random.randint(-50, 50)\n",
    "    B.append(b)\n",
    "    \n",
    "print(\"Array B:\", B)\n",
    "print('-'*50)\n",
    "insertionSort(B)\n",
    "print(\"Sorted array:\")\n",
    "for i in range(len(B)):\n",
    "    print(\"%d\" %B[i])"
   ]
  }
 ],
 "metadata": {
  "kernelspec": {
   "display_name": "Python 3",
   "language": "python",
   "name": "python3"
  },
  "language_info": {
   "codemirror_mode": {
    "name": "ipython",
    "version": 3
   },
   "file_extension": ".py",
   "mimetype": "text/x-python",
   "name": "python",
   "nbconvert_exporter": "python",
   "pygments_lexer": "ipython3",
   "version": "3.8.5"
  }
 },
 "nbformat": 4,
 "nbformat_minor": 4
}
