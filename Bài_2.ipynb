{
 "cells": [
  {
   "cell_type": "code",
   "execution_count": 1,
   "metadata": {},
   "outputs": [
    {
     "name": "stdout",
     "output_type": "stream",
     "text": [
      "Nhập số nguyên dương a = 6\n",
      "Nhập số nguyên dương b = 13\n",
      "Ước chung lớn nhất của 6 và 13 là: 1\n"
     ]
    }
   ],
   "source": [
    "# Ước số chung lớn nhất\n",
    "def UCLN(a, b):\n",
    "    if (b == 0):\n",
    "        return a;\n",
    "    return UCLN(b, a % b);\n",
    " \n",
    "a = int(input(\"Nhập số nguyên dương a = \"));\n",
    "b = int(input(\"Nhập số nguyên dương b = \"));\n",
    "#tính USCLN của a và b\n",
    "print(\"Ước chung lớn nhất của\", a, \"và\", b, \"là:\", UCLN(a, b))"
   ]
  }
 ],
 "metadata": {
  "kernelspec": {
   "display_name": "Python 3",
   "language": "python",
   "name": "python3"
  },
  "language_info": {
   "codemirror_mode": {
    "name": "ipython",
    "version": 3
   },
   "file_extension": ".py",
   "mimetype": "text/x-python",
   "name": "python",
   "nbconvert_exporter": "python",
   "pygments_lexer": "ipython3",
   "version": "3.8.5"
  }
 },
 "nbformat": 4,
 "nbformat_minor": 4
}
