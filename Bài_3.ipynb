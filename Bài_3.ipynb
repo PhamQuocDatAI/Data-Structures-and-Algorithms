{
 "cells": [
  {
   "cell_type": "code",
   "execution_count": 1,
   "metadata": {},
   "outputs": [
    {
     "name": "stdout",
     "output_type": "stream",
     "text": [
      "Nhập giá trị n: 5\n",
      "120\n"
     ]
    }
   ],
   "source": [
    "# Tính giai thừa của một số\n",
    "def giai_thua(n):\n",
    "    while n < 0:\n",
    "        print(\"Lỗi giá trị n.\")\n",
    "        n = int(input(\"Nhập giá trị n: \"))\n",
    "    if n == 0:\n",
    "        return 1\n",
    "    return n * giai_thua(n-1)\n",
    "\n",
    "n = int(input(\"Nhập giá trị n: \"))\n",
    "print(giai_thua(n))"
   ]
  }
 ],
 "metadata": {
  "kernelspec": {
   "display_name": "Python 3",
   "language": "python",
   "name": "python3"
  },
  "language_info": {
   "codemirror_mode": {
    "name": "ipython",
    "version": 3
   },
   "file_extension": ".py",
   "mimetype": "text/x-python",
   "name": "python",
   "nbconvert_exporter": "python",
   "pygments_lexer": "ipython3",
   "version": "3.8.5"
  }
 },
 "nbformat": 4,
 "nbformat_minor": 4
}
