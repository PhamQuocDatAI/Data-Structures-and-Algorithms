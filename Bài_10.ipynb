{
 "cells": [
  {
   "cell_type": "code",
   "execution_count": 1,
   "metadata": {},
   "outputs": [],
   "source": [
    "import random \n",
    "\n",
    "class Node:\n",
    "    \n",
    "    \n",
    "    def __init__(self, data):\n",
    "        self.left_child = None\n",
    "        self.right_child = None\n",
    "        self.parent_node = data\n",
    "\n",
    "    def print_tree(self):\n",
    "        if self.left_child:\n",
    "            self.left_child.print_tree()\n",
    "        print(self.parent_node)\n",
    "        if self.right_child:\n",
    "            self.right_child.print_tree()\n",
    "\n",
    "    def insert_number(self, input_number):\n",
    "\n",
    "        if self.parent_node:\n",
    "\n",
    "            if input_number < self.parent_node:\n",
    "                if self.left_child is None:\n",
    "                    self.left_child = Node(input_number)\n",
    "                else:\n",
    "                    self.left_child.insert_number(input_number)\n",
    "\n",
    "            elif input_number > self.parent_node:\n",
    "                if self.right_child is None:\n",
    "                    self.right_child = Node(input_number)\n",
    "                else:\n",
    "                    self.right_child.insert_number(input_number)\n",
    "        else:\n",
    "            self.parent_node = input_number\n",
    "\n",
    "\n",
    "def rd():\n",
    "    return random.randint(-50, 50)"
   ]
  },
  {
   "cell_type": "code",
   "execution_count": 2,
   "metadata": {},
   "outputs": [
    {
     "name": "stdout",
     "output_type": "stream",
     "text": [
      "-50\n",
      "-29\n",
      "-9\n",
      "20\n",
      "30\n",
      "31\n",
      "43\n"
     ]
    }
   ],
   "source": [
    "root = Node(rd())\n",
    "root.insert_number(rd())\n",
    "root.insert_number(rd())\n",
    "root.insert_number(rd())\n",
    "root.insert_number(rd())\n",
    "root.insert_number(rd())\n",
    "root.insert_number(rd())\n",
    "\n",
    "root.print_tree()"
   ]
  }
 ],
 "metadata": {
  "kernelspec": {
   "display_name": "Python 3",
   "language": "python",
   "name": "python3"
  },
  "language_info": {
   "codemirror_mode": {
    "name": "ipython",
    "version": 3
   },
   "file_extension": ".py",
   "mimetype": "text/x-python",
   "name": "python",
   "nbconvert_exporter": "python",
   "pygments_lexer": "ipython3",
   "version": "3.8.5"
  }
 },
 "nbformat": 4,
 "nbformat_minor": 4
}
